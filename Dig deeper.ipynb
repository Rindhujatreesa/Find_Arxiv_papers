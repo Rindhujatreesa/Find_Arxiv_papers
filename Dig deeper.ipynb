{
 "cells": [
  {
   "cell_type": "code",
   "execution_count": 1,
   "id": "6a0064d9",
   "metadata": {},
   "outputs": [],
   "source": [
    "import pandas as pd"
   ]
  },
  {
   "cell_type": "markdown",
   "id": "8734c1d0",
   "metadata": {},
   "source": [
    "#### Three authors with maximum publication from 2018 - 2022 from each of the four primary categories \n",
    "For this, two functions are defined -\n",
    "- find_author(): finds the number of times an author appears in all the papers together\n",
    "- author_count(): Creates a dictionary with the ley-value pair as {author_name:number_of_papers}"
   ]
  },
  {
   "cell_type": "code",
   "execution_count": 2,
   "id": "de5b872e",
   "metadata": {},
   "outputs": [],
   "source": [
    "def find_author(name,authors_list,pos,count):\n",
    "# we loop through the elements of the list starting from the required position\n",
    "    for names in range(pos,len(authors_list)):\n",
    "        #print(pos,authors_list[names]) #this helps us to monitor the function when running\n",
    "# we increment position index each time to make sure that the function moves to the next element in the list\n",
    "        pos = names +1\n",
    "# If it is a string we further check if it is the name which we are counting and increments the count value by 1 if it is.\n",
    "        if authors_list[names] == name:\n",
    "            count+=1\n",
    "            #print(count,pos)\n",
    "# Each time we encounter the name, we make sure that the search does not stop by calling the function again by returning\n",
    "# the current position and count along with the outer list.\n",
    "            return find_author(name,authors_list,pos,count)\n",
    "    return count #the function the number of times the name repeats in the list"
   ]
  },
  {
   "cell_type": "code",
   "execution_count": 3,
   "id": "4e212ecc",
   "metadata": {},
   "outputs": [],
   "source": [
    "# a new function is defined which stores the number of times an author appears in author_name: count as a key-value pair\n",
    "def author_count(authors_list,author_unique):\n",
    "    no_of_papers = {}\n",
    "    for author in author_unique:\n",
    "        pos = 0\n",
    "        count = 0\n",
    "        author_count = find_author(author,authors_list,pos,count) #each name is being searched for using the \n",
    "        #find_author() and the count is returned\n",
    "        no_of_papers[author] = author_count\n",
    "    return no_of_papers"
   ]
  },
  {
   "cell_type": "code",
   "execution_count": 4,
   "id": "e00b6c91",
   "metadata": {},
   "outputs": [],
   "source": [
    "#The data is extracted from csv file into a dataframe\n",
    "databases = pd.read_csv('Databases.csv',index_col = 'Serial No.')\n",
    "#the Authors column is stored as a list and further straightened to get a list of authors\n",
    "authors_list = list(databases[\"Authors\"])\n",
    "author_list = []\n",
    "for authors in authors_list:\n",
    "    authors = eval(authors) #the csv contains the list of names as a string. It is converted to a list using eval()\n",
    "    for author in authors:\n",
    "        author_list.append(author)\n",
    "authors_unique = tuple(author_list) #the unique names of authors are collected by converting the list into a tuple"
   ]
  },
  {
   "cell_type": "code",
   "execution_count": 5,
   "id": "cc2300dc",
   "metadata": {},
   "outputs": [],
   "source": [
    "No_of_papers = author_count(author_list,authors_unique) #the arguments are passed to the function and the dict is created"
   ]
  },
  {
   "cell_type": "code",
   "execution_count": 6,
   "id": "670a8722",
   "metadata": {},
   "outputs": [
    {
     "name": "stdout",
     "output_type": "stream",
     "text": [
      "The 3 authors with the maximum publications from Database category between 2018 and 2022:\n"
     ]
    },
    {
     "data": {
      "text/plain": [
       "Wensheng Gan      41\n",
       "Tim Kraska        33\n",
       "Hongzhi Wang      27\n",
       "dtype: int64"
      ]
     },
     "execution_count": 6,
     "metadata": {},
     "output_type": "execute_result"
    }
   ],
   "source": [
    "No_of_papers_series = pd.Series(No_of_papers) # A series of the dict is created\n",
    "No_of_papers_sorted = No_of_papers_series.sort_values(ascending = False) #it is sorted in descending order\n",
    "print(\"The 3 authors with the maximum publications from Database category between 2018 and 2022:\")\n",
    "No_of_papers_sorted.head(3) #The 3 most published authors are obtained"
   ]
  },
  {
   "cell_type": "code",
   "execution_count": 8,
   "id": "bf8b9576",
   "metadata": {},
   "outputs": [],
   "source": [
    "#The data is extracted from csv file into a dataframe\n",
    "graphics = pd.read_csv('Graphics.csv',index_col = 'Serial No.')\n",
    "#the Authors column is stored as a list and further straightened to get a list of authors\n",
    "authors_list = list(graphics[\"Authors\"])\n",
    "author_list = []\n",
    "for authors in authors_list:\n",
    "    authors = eval(authors)#the csv contains the list of names as a string. It is converted to a list using eval()\n",
    "    for author in authors:\n",
    "        author_list.append(author)\n",
    "authors_unique = tuple(author_list)#the unique names of authors are collected by converting the list into a tuple"
   ]
  },
  {
   "cell_type": "code",
   "execution_count": 9,
   "id": "040661de",
   "metadata": {},
   "outputs": [],
   "source": [
    "No_of_papers = author_count(author_list,authors_unique)#the arguments are passed to the function and the dict is created"
   ]
  },
  {
   "cell_type": "code",
   "execution_count": 10,
   "id": "bf705f35",
   "metadata": {},
   "outputs": [
    {
     "name": "stdout",
     "output_type": "stream",
     "text": [
      "The 3 authors with the maximum publications from Graphics category between 2018 and 2022:\n"
     ]
    },
    {
     "data": {
      "text/plain": [
       "Daniel Cohen            55\n",
       "Christian Theobalt      47\n",
       "Hao Zhang               33\n",
       "dtype: int64"
      ]
     },
     "execution_count": 10,
     "metadata": {},
     "output_type": "execute_result"
    }
   ],
   "source": [
    "No_of_papers_series = pd.Series(No_of_papers) # A series of the dict is created\n",
    "No_of_papers_sorted = No_of_papers_series.sort_values(ascending = False)#it is sorted in descending order\n",
    "print(\"The 3 authors with the maximum publications from Graphics category between 2018 and 2022:\")\n",
    "No_of_papers_sorted.head(3)#The 3 most published authors are obtained"
   ]
  },
  {
   "cell_type": "code",
   "execution_count": 11,
   "id": "20df7710",
   "metadata": {},
   "outputs": [],
   "source": [
    "#The data is extracted from csv file into a dataframe\n",
    "robotics = pd.read_csv('Robotics.csv',index_col = 'Serial No.')\n",
    "#the Authors column is stored as a list and further straightened to get a list of authors\n",
    "authors_list = list(robotics[\"Authors\"])\n",
    "author_list = []\n",
    "for authors in authors_list:\n",
    "    authors = eval(authors)\n",
    "    for author in authors:\n",
    "        author_list.append(author)\n",
    "authors_unique = tuple(author_list)#the unique names of authors are collected by converting the list into a tuple"
   ]
  },
  {
   "cell_type": "code",
   "execution_count": 12,
   "id": "473c035a",
   "metadata": {},
   "outputs": [],
   "source": [
    "No_of_papers = author_count(author_list,authors_unique)#the arguments are passed to the function and the dict is created"
   ]
  },
  {
   "cell_type": "code",
   "execution_count": 13,
   "id": "11e8bc6b",
   "metadata": {},
   "outputs": [
    {
     "name": "stdout",
     "output_type": "stream",
     "text": [
      "The 3 authors with the maximum publications from Robotics category between 2018 and 2022:\n"
     ]
    },
    {
     "data": {
      "text/plain": [
       "Sergey Levine           151\n",
       "Roland Siegwart         139\n",
       "Masayoshi Tomizuka      111\n",
       "dtype: int64"
      ]
     },
     "execution_count": 13,
     "metadata": {},
     "output_type": "execute_result"
    }
   ],
   "source": [
    "No_of_papers_series = pd.Series(No_of_papers)# A series of the dict is created\n",
    "No_of_papers_sorted = No_of_papers_series.sort_values(ascending = False)#it is sorted in descending order\n",
    "print(\"The 3 authors with the maximum publications from Robotics category between 2018 and 2022:\")\n",
    "No_of_papers_sorted.head(3)#The 3 most published authors are obtained"
   ]
  },
  {
   "cell_type": "code",
   "execution_count": 14,
   "id": "22d43cc4",
   "metadata": {},
   "outputs": [],
   "source": [
    "#The data is extracted from csv file into a dataframe\n",
    "ET = pd.read_csv('Emerging Technologies.csv',index_col = 'Serial No.')\n",
    "#the Authors column is stored as a list and further straightened to get a list of authors\n",
    "authors_list = list(ET[\"Authors\"])\n",
    "author_list = []\n",
    "for authors in authors_list:\n",
    "    authors = eval(authors)#the csv contains the list of names as a string. It is converted to a list using eval()\n",
    "    for author in authors:\n",
    "        author_list.append(author)\n",
    "authors_unique = tuple(author_list)#the unique names of authors are collected by converting the list into a tuple"
   ]
  },
  {
   "cell_type": "code",
   "execution_count": 15,
   "id": "3820b941",
   "metadata": {},
   "outputs": [],
   "source": [
    "No_of_papers = author_count(author_list,authors_unique)#the arguments are passed to the function and the dict is created"
   ]
  },
  {
   "cell_type": "code",
   "execution_count": 16,
   "id": "c26ef33d",
   "metadata": {},
   "outputs": [
    {
     "name": "stdout",
     "output_type": "stream",
     "text": [
      "The 3 authors with the maximum publications from Emerging Tech category between 2018 and 2022:\n"
     ]
    },
    {
     "data": {
      "text/plain": [
       "Andrew Adamatzky      52\n",
       "Robert Schober        34\n",
       "Robert Wille          26\n",
       "dtype: int64"
      ]
     },
     "execution_count": 16,
     "metadata": {},
     "output_type": "execute_result"
    }
   ],
   "source": [
    "No_of_papers_series = pd.Series(No_of_papers)# A series of the dict is created\n",
    "No_of_papers_sorted = No_of_papers_series.sort_values(ascending = False)#it is sorted in descending order\n",
    "print(\"The 3 authors with the maximum publications from Emerging Tech category between 2018 and 2022:\")\n",
    "No_of_papers_sorted.head(3)#The 3 most published authors are obtained"
   ]
  },
  {
   "cell_type": "code",
   "execution_count": null,
   "id": "fb272989",
   "metadata": {},
   "outputs": [],
   "source": []
  }
 ],
 "metadata": {
  "kernelspec": {
   "display_name": "Python 3 (ipykernel)",
   "language": "python",
   "name": "python3"
  },
  "language_info": {
   "codemirror_mode": {
    "name": "ipython",
    "version": 3
   },
   "file_extension": ".py",
   "mimetype": "text/x-python",
   "name": "python",
   "nbconvert_exporter": "python",
   "pygments_lexer": "ipython3",
   "version": "3.9.7"
  }
 },
 "nbformat": 4,
 "nbformat_minor": 5
}
